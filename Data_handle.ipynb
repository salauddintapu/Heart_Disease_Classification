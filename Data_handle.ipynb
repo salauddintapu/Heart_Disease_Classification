{
 "cells": [
  {
   "cell_type": "markdown",
   "id": "1f5e1109",
   "metadata": {},
   "source": [
    "## Import Libraries"
   ]
  },
  {
   "cell_type": "code",
   "execution_count": 3,
   "id": "63640fd0",
   "metadata": {
    "ExecuteTime": {
     "end_time": "2023-04-05T17:00:32.975694Z",
     "start_time": "2023-04-05T17:00:32.956745Z"
    }
   },
   "outputs": [],
   "source": [
    "import numpy as np\n",
    "import pandas as pd\n",
    "import seaborn as sns\n",
    "import matplotlib.pyplot as plt\n",
    "from sklearn.model_selection import train_test_split"
   ]
  },
  {
   "cell_type": "markdown",
   "id": "72db7a4d",
   "metadata": {},
   "source": [
    "## Data Cleaning & Preprocessing"
   ]
  },
  {
   "cell_type": "code",
   "execution_count": 4,
   "id": "1475ed19",
   "metadata": {
    "ExecuteTime": {
     "end_time": "2023-04-05T17:01:21.227793Z",
     "start_time": "2023-04-05T17:01:21.062236Z"
    }
   },
   "outputs": [
    {
     "data": {
      "text/html": [
       "<div>\n",
       "<style scoped>\n",
       "    .dataframe tbody tr th:only-of-type {\n",
       "        vertical-align: middle;\n",
       "    }\n",
       "\n",
       "    .dataframe tbody tr th {\n",
       "        vertical-align: top;\n",
       "    }\n",
       "\n",
       "    .dataframe thead th {\n",
       "        text-align: right;\n",
       "    }\n",
       "</style>\n",
       "<table border=\"1\" class=\"dataframe\">\n",
       "  <thead>\n",
       "    <tr style=\"text-align: right;\">\n",
       "      <th></th>\n",
       "      <th>AGE</th>\n",
       "      <th>GENDER</th>\n",
       "      <th>HEIGHT</th>\n",
       "      <th>WEIGHT</th>\n",
       "      <th>AP_HIGH</th>\n",
       "      <th>AP_LOW</th>\n",
       "      <th>CHOLESTEROL</th>\n",
       "      <th>GLUCOSE</th>\n",
       "      <th>SMOKE</th>\n",
       "      <th>ALCOHOL</th>\n",
       "      <th>PHYSICAL_ACTIVITY</th>\n",
       "      <th>CARDIO_DISEASE</th>\n",
       "    </tr>\n",
       "  </thead>\n",
       "  <tbody>\n",
       "    <tr>\n",
       "      <th>0</th>\n",
       "      <td>50</td>\n",
       "      <td>2</td>\n",
       "      <td>168</td>\n",
       "      <td>62</td>\n",
       "      <td>110</td>\n",
       "      <td>80</td>\n",
       "      <td>1</td>\n",
       "      <td>1</td>\n",
       "      <td>0</td>\n",
       "      <td>0</td>\n",
       "      <td>1</td>\n",
       "      <td>0</td>\n",
       "    </tr>\n",
       "    <tr>\n",
       "      <th>1</th>\n",
       "      <td>55</td>\n",
       "      <td>1</td>\n",
       "      <td>156</td>\n",
       "      <td>85</td>\n",
       "      <td>140</td>\n",
       "      <td>90</td>\n",
       "      <td>3</td>\n",
       "      <td>1</td>\n",
       "      <td>0</td>\n",
       "      <td>0</td>\n",
       "      <td>1</td>\n",
       "      <td>1</td>\n",
       "    </tr>\n",
       "    <tr>\n",
       "      <th>2</th>\n",
       "      <td>52</td>\n",
       "      <td>1</td>\n",
       "      <td>165</td>\n",
       "      <td>64</td>\n",
       "      <td>130</td>\n",
       "      <td>70</td>\n",
       "      <td>3</td>\n",
       "      <td>1</td>\n",
       "      <td>0</td>\n",
       "      <td>0</td>\n",
       "      <td>0</td>\n",
       "      <td>1</td>\n",
       "    </tr>\n",
       "    <tr>\n",
       "      <th>3</th>\n",
       "      <td>48</td>\n",
       "      <td>2</td>\n",
       "      <td>169</td>\n",
       "      <td>82</td>\n",
       "      <td>150</td>\n",
       "      <td>100</td>\n",
       "      <td>1</td>\n",
       "      <td>1</td>\n",
       "      <td>0</td>\n",
       "      <td>0</td>\n",
       "      <td>1</td>\n",
       "      <td>1</td>\n",
       "    </tr>\n",
       "    <tr>\n",
       "      <th>4</th>\n",
       "      <td>48</td>\n",
       "      <td>1</td>\n",
       "      <td>156</td>\n",
       "      <td>56</td>\n",
       "      <td>100</td>\n",
       "      <td>60</td>\n",
       "      <td>1</td>\n",
       "      <td>1</td>\n",
       "      <td>0</td>\n",
       "      <td>0</td>\n",
       "      <td>0</td>\n",
       "      <td>0</td>\n",
       "    </tr>\n",
       "    <tr>\n",
       "      <th>...</th>\n",
       "      <td>...</td>\n",
       "      <td>...</td>\n",
       "      <td>...</td>\n",
       "      <td>...</td>\n",
       "      <td>...</td>\n",
       "      <td>...</td>\n",
       "      <td>...</td>\n",
       "      <td>...</td>\n",
       "      <td>...</td>\n",
       "      <td>...</td>\n",
       "      <td>...</td>\n",
       "      <td>...</td>\n",
       "    </tr>\n",
       "    <tr>\n",
       "      <th>68778</th>\n",
       "      <td>53</td>\n",
       "      <td>2</td>\n",
       "      <td>168</td>\n",
       "      <td>76</td>\n",
       "      <td>120</td>\n",
       "      <td>80</td>\n",
       "      <td>1</td>\n",
       "      <td>1</td>\n",
       "      <td>1</td>\n",
       "      <td>0</td>\n",
       "      <td>1</td>\n",
       "      <td>0</td>\n",
       "    </tr>\n",
       "    <tr>\n",
       "      <th>68779</th>\n",
       "      <td>62</td>\n",
       "      <td>1</td>\n",
       "      <td>158</td>\n",
       "      <td>126</td>\n",
       "      <td>140</td>\n",
       "      <td>90</td>\n",
       "      <td>2</td>\n",
       "      <td>2</td>\n",
       "      <td>0</td>\n",
       "      <td>0</td>\n",
       "      <td>1</td>\n",
       "      <td>1</td>\n",
       "    </tr>\n",
       "    <tr>\n",
       "      <th>68780</th>\n",
       "      <td>52</td>\n",
       "      <td>2</td>\n",
       "      <td>183</td>\n",
       "      <td>105</td>\n",
       "      <td>180</td>\n",
       "      <td>90</td>\n",
       "      <td>3</td>\n",
       "      <td>1</td>\n",
       "      <td>0</td>\n",
       "      <td>1</td>\n",
       "      <td>0</td>\n",
       "      <td>1</td>\n",
       "    </tr>\n",
       "    <tr>\n",
       "      <th>68781</th>\n",
       "      <td>61</td>\n",
       "      <td>1</td>\n",
       "      <td>163</td>\n",
       "      <td>72</td>\n",
       "      <td>135</td>\n",
       "      <td>80</td>\n",
       "      <td>1</td>\n",
       "      <td>2</td>\n",
       "      <td>0</td>\n",
       "      <td>0</td>\n",
       "      <td>0</td>\n",
       "      <td>1</td>\n",
       "    </tr>\n",
       "    <tr>\n",
       "      <th>68782</th>\n",
       "      <td>56</td>\n",
       "      <td>1</td>\n",
       "      <td>170</td>\n",
       "      <td>72</td>\n",
       "      <td>120</td>\n",
       "      <td>80</td>\n",
       "      <td>2</td>\n",
       "      <td>1</td>\n",
       "      <td>0</td>\n",
       "      <td>0</td>\n",
       "      <td>1</td>\n",
       "      <td>0</td>\n",
       "    </tr>\n",
       "  </tbody>\n",
       "</table>\n",
       "<p>68783 rows × 12 columns</p>\n",
       "</div>"
      ],
      "text/plain": [
       "       AGE  GENDER  HEIGHT  WEIGHT  AP_HIGH  AP_LOW  CHOLESTEROL  GLUCOSE  \\\n",
       "0       50       2     168      62      110      80            1        1   \n",
       "1       55       1     156      85      140      90            3        1   \n",
       "2       52       1     165      64      130      70            3        1   \n",
       "3       48       2     169      82      150     100            1        1   \n",
       "4       48       1     156      56      100      60            1        1   \n",
       "...    ...     ...     ...     ...      ...     ...          ...      ...   \n",
       "68778   53       2     168      76      120      80            1        1   \n",
       "68779   62       1     158     126      140      90            2        2   \n",
       "68780   52       2     183     105      180      90            3        1   \n",
       "68781   61       1     163      72      135      80            1        2   \n",
       "68782   56       1     170      72      120      80            2        1   \n",
       "\n",
       "       SMOKE  ALCOHOL  PHYSICAL_ACTIVITY  CARDIO_DISEASE  \n",
       "0          0        0                  1               0  \n",
       "1          0        0                  1               1  \n",
       "2          0        0                  0               1  \n",
       "3          0        0                  1               1  \n",
       "4          0        0                  0               0  \n",
       "...      ...      ...                ...             ...  \n",
       "68778      1        0                  1               0  \n",
       "68779      0        0                  1               1  \n",
       "68780      0        1                  0               1  \n",
       "68781      0        0                  0               1  \n",
       "68782      0        0                  1               0  \n",
       "\n",
       "[68783 rows x 12 columns]"
      ]
     },
     "execution_count": 4,
     "metadata": {},
     "output_type": "execute_result"
    }
   ],
   "source": [
    "df = pd.read_csv('cardiovascular_diseases_dv3.csv', sep=';')\n",
    "df"
   ]
  },
  {
   "cell_type": "code",
   "execution_count": 5,
   "id": "bfe07087",
   "metadata": {
    "ExecuteTime": {
     "end_time": "2023-04-05T17:08:56.767821Z",
     "start_time": "2023-04-05T17:08:56.751829Z"
    }
   },
   "outputs": [
    {
     "data": {
      "text/plain": [
       "Index(['AGE', 'GENDER', 'HEIGHT', 'WEIGHT', 'AP_HIGH', 'AP_LOW', 'CHOLESTEROL',\n",
       "       'GLUCOSE', 'SMOKE', 'ALCOHOL', 'PHYSICAL_ACTIVITY', 'CARDIO_DISEASE'],\n",
       "      dtype='object')"
      ]
     },
     "execution_count": 5,
     "metadata": {},
     "output_type": "execute_result"
    }
   ],
   "source": [
    "df.columns"
   ]
  },
  {
   "cell_type": "code",
   "execution_count": 6,
   "id": "5d880eca",
   "metadata": {
    "ExecuteTime": {
     "end_time": "2023-04-05T17:08:58.375094Z",
     "start_time": "2023-04-05T17:08:58.363091Z"
    }
   },
   "outputs": [
    {
     "data": {
      "text/plain": [
       "(68783, 12)"
      ]
     },
     "execution_count": 6,
     "metadata": {},
     "output_type": "execute_result"
    }
   ],
   "source": [
    "df.shape"
   ]
  },
  {
   "cell_type": "code",
   "execution_count": 7,
   "id": "ba7e700e",
   "metadata": {
    "ExecuteTime": {
     "end_time": "2023-04-05T17:09:11.745878Z",
     "start_time": "2023-04-05T17:09:11.709943Z"
    }
   },
   "outputs": [
    {
     "data": {
      "text/html": [
       "<div>\n",
       "<style scoped>\n",
       "    .dataframe tbody tr th:only-of-type {\n",
       "        vertical-align: middle;\n",
       "    }\n",
       "\n",
       "    .dataframe tbody tr th {\n",
       "        vertical-align: top;\n",
       "    }\n",
       "\n",
       "    .dataframe thead th {\n",
       "        text-align: right;\n",
       "    }\n",
       "</style>\n",
       "<table border=\"1\" class=\"dataframe\">\n",
       "  <thead>\n",
       "    <tr style=\"text-align: right;\">\n",
       "      <th></th>\n",
       "      <th>AGE</th>\n",
       "      <th>GENDER</th>\n",
       "      <th>HEIGHT</th>\n",
       "      <th>WEIGHT</th>\n",
       "      <th>AP_HIGH</th>\n",
       "      <th>AP_LOW</th>\n",
       "      <th>CHOLESTEROL</th>\n",
       "      <th>GLUCOSE</th>\n",
       "      <th>SMOKE</th>\n",
       "      <th>ALCOHOL</th>\n",
       "      <th>PHYSICAL_ACTIVITY</th>\n",
       "      <th>CARDIO_DISEASE</th>\n",
       "    </tr>\n",
       "  </thead>\n",
       "  <tbody>\n",
       "    <tr>\n",
       "      <th>0</th>\n",
       "      <td>50</td>\n",
       "      <td>2</td>\n",
       "      <td>168</td>\n",
       "      <td>62</td>\n",
       "      <td>110</td>\n",
       "      <td>80</td>\n",
       "      <td>1</td>\n",
       "      <td>1</td>\n",
       "      <td>0</td>\n",
       "      <td>0</td>\n",
       "      <td>1</td>\n",
       "      <td>0</td>\n",
       "    </tr>\n",
       "    <tr>\n",
       "      <th>1</th>\n",
       "      <td>55</td>\n",
       "      <td>1</td>\n",
       "      <td>156</td>\n",
       "      <td>85</td>\n",
       "      <td>140</td>\n",
       "      <td>90</td>\n",
       "      <td>3</td>\n",
       "      <td>1</td>\n",
       "      <td>0</td>\n",
       "      <td>0</td>\n",
       "      <td>1</td>\n",
       "      <td>1</td>\n",
       "    </tr>\n",
       "    <tr>\n",
       "      <th>2</th>\n",
       "      <td>52</td>\n",
       "      <td>1</td>\n",
       "      <td>165</td>\n",
       "      <td>64</td>\n",
       "      <td>130</td>\n",
       "      <td>70</td>\n",
       "      <td>3</td>\n",
       "      <td>1</td>\n",
       "      <td>0</td>\n",
       "      <td>0</td>\n",
       "      <td>0</td>\n",
       "      <td>1</td>\n",
       "    </tr>\n",
       "    <tr>\n",
       "      <th>3</th>\n",
       "      <td>48</td>\n",
       "      <td>2</td>\n",
       "      <td>169</td>\n",
       "      <td>82</td>\n",
       "      <td>150</td>\n",
       "      <td>100</td>\n",
       "      <td>1</td>\n",
       "      <td>1</td>\n",
       "      <td>0</td>\n",
       "      <td>0</td>\n",
       "      <td>1</td>\n",
       "      <td>1</td>\n",
       "    </tr>\n",
       "    <tr>\n",
       "      <th>4</th>\n",
       "      <td>48</td>\n",
       "      <td>1</td>\n",
       "      <td>156</td>\n",
       "      <td>56</td>\n",
       "      <td>100</td>\n",
       "      <td>60</td>\n",
       "      <td>1</td>\n",
       "      <td>1</td>\n",
       "      <td>0</td>\n",
       "      <td>0</td>\n",
       "      <td>0</td>\n",
       "      <td>0</td>\n",
       "    </tr>\n",
       "  </tbody>\n",
       "</table>\n",
       "</div>"
      ],
      "text/plain": [
       "   AGE  GENDER  HEIGHT  WEIGHT  AP_HIGH  AP_LOW  CHOLESTEROL  GLUCOSE  SMOKE  \\\n",
       "0   50       2     168      62      110      80            1        1      0   \n",
       "1   55       1     156      85      140      90            3        1      0   \n",
       "2   52       1     165      64      130      70            3        1      0   \n",
       "3   48       2     169      82      150     100            1        1      0   \n",
       "4   48       1     156      56      100      60            1        1      0   \n",
       "\n",
       "   ALCOHOL  PHYSICAL_ACTIVITY  CARDIO_DISEASE  \n",
       "0        0                  1               0  \n",
       "1        0                  1               1  \n",
       "2        0                  0               1  \n",
       "3        0                  1               1  \n",
       "4        0                  0               0  "
      ]
     },
     "execution_count": 7,
     "metadata": {},
     "output_type": "execute_result"
    }
   ],
   "source": [
    "df.head()"
   ]
  },
  {
   "cell_type": "markdown",
   "id": "74b6cbd4",
   "metadata": {},
   "source": [
    "### Cleaning "
   ]
  },
  {
   "cell_type": "code",
   "execution_count": 8,
   "id": "6d44f7bf",
   "metadata": {
    "ExecuteTime": {
     "end_time": "2023-04-05T17:09:48.807214Z",
     "start_time": "2023-04-05T17:09:48.780287Z"
    }
   },
   "outputs": [
    {
     "data": {
      "text/plain": [
       "AGE                  0\n",
       "GENDER               0\n",
       "HEIGHT               0\n",
       "WEIGHT               0\n",
       "AP_HIGH              0\n",
       "AP_LOW               0\n",
       "CHOLESTEROL          0\n",
       "GLUCOSE              0\n",
       "SMOKE                0\n",
       "ALCOHOL              0\n",
       "PHYSICAL_ACTIVITY    0\n",
       "CARDIO_DISEASE       0\n",
       "dtype: int64"
      ]
     },
     "execution_count": 8,
     "metadata": {},
     "output_type": "execute_result"
    }
   ],
   "source": [
    "#checking null values\n",
    "df.isnull().sum()"
   ]
  },
  {
   "cell_type": "code",
   "execution_count": 9,
   "id": "213e5a5b",
   "metadata": {
    "ExecuteTime": {
     "end_time": "2023-04-05T17:09:59.261458Z",
     "start_time": "2023-04-05T17:09:59.243505Z"
    }
   },
   "outputs": [
    {
     "data": {
      "text/plain": [
       "AGE                  0\n",
       "GENDER               0\n",
       "HEIGHT               0\n",
       "WEIGHT               0\n",
       "AP_HIGH              0\n",
       "AP_LOW               0\n",
       "CHOLESTEROL          0\n",
       "GLUCOSE              0\n",
       "SMOKE                0\n",
       "ALCOHOL              0\n",
       "PHYSICAL_ACTIVITY    0\n",
       "CARDIO_DISEASE       0\n",
       "dtype: int64"
      ]
     },
     "execution_count": 9,
     "metadata": {},
     "output_type": "execute_result"
    }
   ],
   "source": [
    "#cheking missing values\n",
    "df.isna().sum()"
   ]
  },
  {
   "cell_type": "code",
   "execution_count": 10,
   "id": "7a131cb2",
   "metadata": {
    "ExecuteTime": {
     "end_time": "2023-04-05T17:10:00.548483Z",
     "start_time": "2023-04-05T17:10:00.496618Z"
    }
   },
   "outputs": [
    {
     "data": {
      "text/plain": [
       "3820"
      ]
     },
     "execution_count": 10,
     "metadata": {},
     "output_type": "execute_result"
    }
   ],
   "source": [
    "#duplicate values\n",
    "df.duplicated().sum()"
   ]
  },
  {
   "cell_type": "code",
   "execution_count": 11,
   "id": "6e28feca",
   "metadata": {
    "ExecuteTime": {
     "end_time": "2023-04-05T17:10:07.555993Z",
     "start_time": "2023-04-05T17:10:07.463242Z"
    }
   },
   "outputs": [
    {
     "data": {
      "text/plain": [
       "0"
      ]
     },
     "execution_count": 11,
     "metadata": {},
     "output_type": "execute_result"
    }
   ],
   "source": [
    "df.drop_duplicates(inplace=True)\n",
    "df.duplicated().sum()"
   ]
  },
  {
   "cell_type": "code",
   "execution_count": 12,
   "id": "4666f834",
   "metadata": {
    "ExecuteTime": {
     "end_time": "2023-04-05T17:10:09.020687Z",
     "start_time": "2023-04-05T17:10:09.007684Z"
    }
   },
   "outputs": [
    {
     "data": {
      "text/plain": [
       "(64963, 12)"
      ]
     },
     "execution_count": 12,
     "metadata": {},
     "output_type": "execute_result"
    }
   ],
   "source": [
    "df.shape"
   ]
  },
  {
   "cell_type": "code",
   "execution_count": 13,
   "id": "a4c44bc2",
   "metadata": {
    "ExecuteTime": {
     "end_time": "2023-04-05T17:10:13.908582Z",
     "start_time": "2023-04-05T17:10:13.769951Z"
    }
   },
   "outputs": [
    {
     "data": {
      "text/html": [
       "<div>\n",
       "<style scoped>\n",
       "    .dataframe tbody tr th:only-of-type {\n",
       "        vertical-align: middle;\n",
       "    }\n",
       "\n",
       "    .dataframe tbody tr th {\n",
       "        vertical-align: top;\n",
       "    }\n",
       "\n",
       "    .dataframe thead th {\n",
       "        text-align: right;\n",
       "    }\n",
       "</style>\n",
       "<table border=\"1\" class=\"dataframe\">\n",
       "  <thead>\n",
       "    <tr style=\"text-align: right;\">\n",
       "      <th></th>\n",
       "      <th>AGE</th>\n",
       "      <th>GENDER</th>\n",
       "      <th>HEIGHT</th>\n",
       "      <th>WEIGHT</th>\n",
       "      <th>AP_HIGH</th>\n",
       "      <th>AP_LOW</th>\n",
       "      <th>CHOLESTEROL</th>\n",
       "      <th>GLUCOSE</th>\n",
       "      <th>SMOKE</th>\n",
       "      <th>ALCOHOL</th>\n",
       "      <th>PHYSICAL_ACTIVITY</th>\n",
       "      <th>CARDIO_DISEASE</th>\n",
       "    </tr>\n",
       "  </thead>\n",
       "  <tbody>\n",
       "    <tr>\n",
       "      <th>count</th>\n",
       "      <td>64963.000000</td>\n",
       "      <td>64963.000000</td>\n",
       "      <td>64963.000000</td>\n",
       "      <td>64963.000000</td>\n",
       "      <td>64963.000000</td>\n",
       "      <td>64963.000000</td>\n",
       "      <td>64963.000000</td>\n",
       "      <td>64963.000000</td>\n",
       "      <td>64963.000000</td>\n",
       "      <td>64963.000000</td>\n",
       "      <td>64963.000000</td>\n",
       "      <td>64963.000000</td>\n",
       "    </tr>\n",
       "    <tr>\n",
       "      <th>mean</th>\n",
       "      <td>53.353155</td>\n",
       "      <td>1.356511</td>\n",
       "      <td>164.347259</td>\n",
       "      <td>74.497252</td>\n",
       "      <td>126.979989</td>\n",
       "      <td>81.480766</td>\n",
       "      <td>1.384080</td>\n",
       "      <td>1.237905</td>\n",
       "      <td>0.092714</td>\n",
       "      <td>0.056663</td>\n",
       "      <td>0.797115</td>\n",
       "      <td>0.508797</td>\n",
       "    </tr>\n",
       "    <tr>\n",
       "      <th>std</th>\n",
       "      <td>6.811546</td>\n",
       "      <td>0.478972</td>\n",
       "      <td>8.330184</td>\n",
       "      <td>14.552793</td>\n",
       "      <td>17.116092</td>\n",
       "      <td>9.904148</td>\n",
       "      <td>0.691197</td>\n",
       "      <td>0.584059</td>\n",
       "      <td>0.290034</td>\n",
       "      <td>0.231199</td>\n",
       "      <td>0.402150</td>\n",
       "      <td>0.499926</td>\n",
       "    </tr>\n",
       "    <tr>\n",
       "      <th>min</th>\n",
       "      <td>30.000000</td>\n",
       "      <td>1.000000</td>\n",
       "      <td>55.000000</td>\n",
       "      <td>11.000000</td>\n",
       "      <td>60.000000</td>\n",
       "      <td>40.000000</td>\n",
       "      <td>1.000000</td>\n",
       "      <td>1.000000</td>\n",
       "      <td>0.000000</td>\n",
       "      <td>0.000000</td>\n",
       "      <td>0.000000</td>\n",
       "      <td>0.000000</td>\n",
       "    </tr>\n",
       "    <tr>\n",
       "      <th>25%</th>\n",
       "      <td>48.000000</td>\n",
       "      <td>1.000000</td>\n",
       "      <td>159.000000</td>\n",
       "      <td>65.000000</td>\n",
       "      <td>120.000000</td>\n",
       "      <td>80.000000</td>\n",
       "      <td>1.000000</td>\n",
       "      <td>1.000000</td>\n",
       "      <td>0.000000</td>\n",
       "      <td>0.000000</td>\n",
       "      <td>1.000000</td>\n",
       "      <td>0.000000</td>\n",
       "    </tr>\n",
       "    <tr>\n",
       "      <th>50%</th>\n",
       "      <td>54.000000</td>\n",
       "      <td>1.000000</td>\n",
       "      <td>165.000000</td>\n",
       "      <td>72.000000</td>\n",
       "      <td>120.000000</td>\n",
       "      <td>80.000000</td>\n",
       "      <td>1.000000</td>\n",
       "      <td>1.000000</td>\n",
       "      <td>0.000000</td>\n",
       "      <td>0.000000</td>\n",
       "      <td>1.000000</td>\n",
       "      <td>1.000000</td>\n",
       "    </tr>\n",
       "    <tr>\n",
       "      <th>75%</th>\n",
       "      <td>59.000000</td>\n",
       "      <td>2.000000</td>\n",
       "      <td>170.000000</td>\n",
       "      <td>82.500000</td>\n",
       "      <td>140.000000</td>\n",
       "      <td>90.000000</td>\n",
       "      <td>2.000000</td>\n",
       "      <td>1.000000</td>\n",
       "      <td>0.000000</td>\n",
       "      <td>0.000000</td>\n",
       "      <td>1.000000</td>\n",
       "      <td>1.000000</td>\n",
       "    </tr>\n",
       "    <tr>\n",
       "      <th>max</th>\n",
       "      <td>65.000000</td>\n",
       "      <td>2.000000</td>\n",
       "      <td>250.000000</td>\n",
       "      <td>200.000000</td>\n",
       "      <td>240.000000</td>\n",
       "      <td>190.000000</td>\n",
       "      <td>3.000000</td>\n",
       "      <td>3.000000</td>\n",
       "      <td>1.000000</td>\n",
       "      <td>1.000000</td>\n",
       "      <td>1.000000</td>\n",
       "      <td>1.000000</td>\n",
       "    </tr>\n",
       "  </tbody>\n",
       "</table>\n",
       "</div>"
      ],
      "text/plain": [
       "                AGE        GENDER        HEIGHT        WEIGHT       AP_HIGH  \\\n",
       "count  64963.000000  64963.000000  64963.000000  64963.000000  64963.000000   \n",
       "mean      53.353155      1.356511    164.347259     74.497252    126.979989   \n",
       "std        6.811546      0.478972      8.330184     14.552793     17.116092   \n",
       "min       30.000000      1.000000     55.000000     11.000000     60.000000   \n",
       "25%       48.000000      1.000000    159.000000     65.000000    120.000000   \n",
       "50%       54.000000      1.000000    165.000000     72.000000    120.000000   \n",
       "75%       59.000000      2.000000    170.000000     82.500000    140.000000   \n",
       "max       65.000000      2.000000    250.000000    200.000000    240.000000   \n",
       "\n",
       "             AP_LOW   CHOLESTEROL       GLUCOSE         SMOKE       ALCOHOL  \\\n",
       "count  64963.000000  64963.000000  64963.000000  64963.000000  64963.000000   \n",
       "mean      81.480766      1.384080      1.237905      0.092714      0.056663   \n",
       "std        9.904148      0.691197      0.584059      0.290034      0.231199   \n",
       "min       40.000000      1.000000      1.000000      0.000000      0.000000   \n",
       "25%       80.000000      1.000000      1.000000      0.000000      0.000000   \n",
       "50%       80.000000      1.000000      1.000000      0.000000      0.000000   \n",
       "75%       90.000000      2.000000      1.000000      0.000000      0.000000   \n",
       "max      190.000000      3.000000      3.000000      1.000000      1.000000   \n",
       "\n",
       "       PHYSICAL_ACTIVITY  CARDIO_DISEASE  \n",
       "count       64963.000000    64963.000000  \n",
       "mean            0.797115        0.508797  \n",
       "std             0.402150        0.499926  \n",
       "min             0.000000        0.000000  \n",
       "25%             1.000000        0.000000  \n",
       "50%             1.000000        1.000000  \n",
       "75%             1.000000        1.000000  \n",
       "max             1.000000        1.000000  "
      ]
     },
     "execution_count": 13,
     "metadata": {},
     "output_type": "execute_result"
    }
   ],
   "source": [
    "df.describe()"
   ]
  },
  {
   "cell_type": "code",
   "execution_count": 14,
   "id": "7d8bbe76",
   "metadata": {
    "ExecuteTime": {
     "end_time": "2023-04-05T17:10:21.789547Z",
     "start_time": "2023-04-05T17:10:21.468399Z"
    }
   },
   "outputs": [],
   "source": [
    "df.to_csv('cleaned_data.csv', index=False)"
   ]
  },
  {
   "cell_type": "code",
   "execution_count": 15,
   "id": "fce46737",
   "metadata": {
    "ExecuteTime": {
     "end_time": "2023-04-05T17:10:23.313464Z",
     "start_time": "2023-04-05T17:10:23.301494Z"
    }
   },
   "outputs": [
    {
     "data": {
      "text/plain": [
       "Index(['AGE', 'GENDER', 'HEIGHT', 'WEIGHT', 'AP_HIGH', 'AP_LOW', 'CHOLESTEROL',\n",
       "       'GLUCOSE', 'SMOKE', 'ALCOHOL', 'PHYSICAL_ACTIVITY', 'CARDIO_DISEASE'],\n",
       "      dtype='object')"
      ]
     },
     "execution_count": 15,
     "metadata": {},
     "output_type": "execute_result"
    }
   ],
   "source": [
    "df.columns"
   ]
  },
  {
   "cell_type": "markdown",
   "id": "f038189a",
   "metadata": {},
   "source": [
    "## Split Train and Test Part"
   ]
  },
  {
   "cell_type": "code",
   "execution_count": 17,
   "id": "2b0c1b34",
   "metadata": {
    "ExecuteTime": {
     "end_time": "2023-04-05T17:18:34.596470Z",
     "start_time": "2023-04-05T17:18:34.574491Z"
    }
   },
   "outputs": [],
   "source": [
    "x = df.drop(['CARDIO_DISEASE'], axis=1)\n",
    "y = df['CARDIO_DISEASE']"
   ]
  },
  {
   "cell_type": "code",
   "execution_count": 18,
   "id": "a20e760c",
   "metadata": {
    "ExecuteTime": {
     "end_time": "2023-04-05T17:18:38.635984Z",
     "start_time": "2023-04-05T17:18:38.457449Z"
    },
    "scrolled": true
   },
   "outputs": [],
   "source": [
    "x_train, x_test, y_train, y_test = train_test_split(x, y, test_size=0.3, random_state=23, shuffle=True, stratify=y)"
   ]
  },
  {
   "cell_type": "markdown",
   "id": "6b6f3a85",
   "metadata": {},
   "source": [
    "### Writing to CSV"
   ]
  },
  {
   "cell_type": "code",
   "execution_count": 19,
   "id": "02925ff2",
   "metadata": {
    "ExecuteTime": {
     "end_time": "2023-04-05T17:20:05.749363Z",
     "start_time": "2023-04-05T17:20:05.729417Z"
    }
   },
   "outputs": [],
   "source": [
    "train_frame = [x_train, y_train]\n",
    "test_frame = [x_test, y_test]"
   ]
  },
  {
   "cell_type": "code",
   "execution_count": 20,
   "id": "3b59c4c7",
   "metadata": {
    "ExecuteTime": {
     "end_time": "2023-04-05T17:21:29.343624Z",
     "start_time": "2023-04-05T17:21:29.323639Z"
    }
   },
   "outputs": [],
   "source": [
    "df_train = pd.concat(train_frame, axis=1, ignore_index=True)\n",
    "df_test = pd.concat(test_frame, axis=1, ignore_index=True)"
   ]
  },
  {
   "cell_type": "code",
   "execution_count": 21,
   "id": "b0ade3cd",
   "metadata": {
    "ExecuteTime": {
     "end_time": "2023-04-05T17:23:02.570678Z",
     "start_time": "2023-04-05T17:23:02.541755Z"
    }
   },
   "outputs": [
    {
     "data": {
      "text/html": [
       "<div>\n",
       "<style scoped>\n",
       "    .dataframe tbody tr th:only-of-type {\n",
       "        vertical-align: middle;\n",
       "    }\n",
       "\n",
       "    .dataframe tbody tr th {\n",
       "        vertical-align: top;\n",
       "    }\n",
       "\n",
       "    .dataframe thead th {\n",
       "        text-align: right;\n",
       "    }\n",
       "</style>\n",
       "<table border=\"1\" class=\"dataframe\">\n",
       "  <thead>\n",
       "    <tr style=\"text-align: right;\">\n",
       "      <th></th>\n",
       "      <th>0</th>\n",
       "      <th>1</th>\n",
       "      <th>2</th>\n",
       "      <th>3</th>\n",
       "      <th>4</th>\n",
       "      <th>5</th>\n",
       "      <th>6</th>\n",
       "      <th>7</th>\n",
       "      <th>8</th>\n",
       "      <th>9</th>\n",
       "      <th>10</th>\n",
       "      <th>11</th>\n",
       "    </tr>\n",
       "  </thead>\n",
       "  <tbody>\n",
       "    <tr>\n",
       "      <th>35960</th>\n",
       "      <td>60</td>\n",
       "      <td>2</td>\n",
       "      <td>170</td>\n",
       "      <td>64</td>\n",
       "      <td>110</td>\n",
       "      <td>70</td>\n",
       "      <td>1</td>\n",
       "      <td>1</td>\n",
       "      <td>0</td>\n",
       "      <td>0</td>\n",
       "      <td>1</td>\n",
       "      <td>1</td>\n",
       "    </tr>\n",
       "    <tr>\n",
       "      <th>5364</th>\n",
       "      <td>44</td>\n",
       "      <td>1</td>\n",
       "      <td>165</td>\n",
       "      <td>97</td>\n",
       "      <td>120</td>\n",
       "      <td>80</td>\n",
       "      <td>2</td>\n",
       "      <td>2</td>\n",
       "      <td>0</td>\n",
       "      <td>0</td>\n",
       "      <td>1</td>\n",
       "      <td>0</td>\n",
       "    </tr>\n",
       "    <tr>\n",
       "      <th>12326</th>\n",
       "      <td>64</td>\n",
       "      <td>2</td>\n",
       "      <td>162</td>\n",
       "      <td>78</td>\n",
       "      <td>150</td>\n",
       "      <td>80</td>\n",
       "      <td>1</td>\n",
       "      <td>1</td>\n",
       "      <td>0</td>\n",
       "      <td>0</td>\n",
       "      <td>1</td>\n",
       "      <td>0</td>\n",
       "    </tr>\n",
       "    <tr>\n",
       "      <th>59086</th>\n",
       "      <td>64</td>\n",
       "      <td>1</td>\n",
       "      <td>168</td>\n",
       "      <td>63</td>\n",
       "      <td>130</td>\n",
       "      <td>80</td>\n",
       "      <td>1</td>\n",
       "      <td>1</td>\n",
       "      <td>0</td>\n",
       "      <td>0</td>\n",
       "      <td>1</td>\n",
       "      <td>1</td>\n",
       "    </tr>\n",
       "    <tr>\n",
       "      <th>5403</th>\n",
       "      <td>47</td>\n",
       "      <td>2</td>\n",
       "      <td>164</td>\n",
       "      <td>75</td>\n",
       "      <td>130</td>\n",
       "      <td>90</td>\n",
       "      <td>1</td>\n",
       "      <td>1</td>\n",
       "      <td>0</td>\n",
       "      <td>0</td>\n",
       "      <td>1</td>\n",
       "      <td>0</td>\n",
       "    </tr>\n",
       "    <tr>\n",
       "      <th>...</th>\n",
       "      <td>...</td>\n",
       "      <td>...</td>\n",
       "      <td>...</td>\n",
       "      <td>...</td>\n",
       "      <td>...</td>\n",
       "      <td>...</td>\n",
       "      <td>...</td>\n",
       "      <td>...</td>\n",
       "      <td>...</td>\n",
       "      <td>...</td>\n",
       "      <td>...</td>\n",
       "      <td>...</td>\n",
       "    </tr>\n",
       "    <tr>\n",
       "      <th>29481</th>\n",
       "      <td>61</td>\n",
       "      <td>2</td>\n",
       "      <td>160</td>\n",
       "      <td>65</td>\n",
       "      <td>110</td>\n",
       "      <td>81</td>\n",
       "      <td>2</td>\n",
       "      <td>1</td>\n",
       "      <td>1</td>\n",
       "      <td>0</td>\n",
       "      <td>1</td>\n",
       "      <td>1</td>\n",
       "    </tr>\n",
       "    <tr>\n",
       "      <th>2069</th>\n",
       "      <td>64</td>\n",
       "      <td>2</td>\n",
       "      <td>174</td>\n",
       "      <td>104</td>\n",
       "      <td>140</td>\n",
       "      <td>80</td>\n",
       "      <td>1</td>\n",
       "      <td>1</td>\n",
       "      <td>0</td>\n",
       "      <td>0</td>\n",
       "      <td>0</td>\n",
       "      <td>1</td>\n",
       "    </tr>\n",
       "    <tr>\n",
       "      <th>8286</th>\n",
       "      <td>54</td>\n",
       "      <td>2</td>\n",
       "      <td>170</td>\n",
       "      <td>89</td>\n",
       "      <td>130</td>\n",
       "      <td>90</td>\n",
       "      <td>1</td>\n",
       "      <td>3</td>\n",
       "      <td>0</td>\n",
       "      <td>0</td>\n",
       "      <td>1</td>\n",
       "      <td>1</td>\n",
       "    </tr>\n",
       "    <tr>\n",
       "      <th>49578</th>\n",
       "      <td>61</td>\n",
       "      <td>1</td>\n",
       "      <td>156</td>\n",
       "      <td>55</td>\n",
       "      <td>120</td>\n",
       "      <td>80</td>\n",
       "      <td>3</td>\n",
       "      <td>3</td>\n",
       "      <td>0</td>\n",
       "      <td>0</td>\n",
       "      <td>0</td>\n",
       "      <td>1</td>\n",
       "    </tr>\n",
       "    <tr>\n",
       "      <th>32368</th>\n",
       "      <td>60</td>\n",
       "      <td>2</td>\n",
       "      <td>170</td>\n",
       "      <td>84</td>\n",
       "      <td>160</td>\n",
       "      <td>100</td>\n",
       "      <td>3</td>\n",
       "      <td>3</td>\n",
       "      <td>0</td>\n",
       "      <td>0</td>\n",
       "      <td>1</td>\n",
       "      <td>1</td>\n",
       "    </tr>\n",
       "  </tbody>\n",
       "</table>\n",
       "<p>19489 rows × 12 columns</p>\n",
       "</div>"
      ],
      "text/plain": [
       "       0   1    2    3    4    5   6   7   8   9   10  11\n",
       "35960  60   2  170   64  110   70   1   1   0   0   1   1\n",
       "5364   44   1  165   97  120   80   2   2   0   0   1   0\n",
       "12326  64   2  162   78  150   80   1   1   0   0   1   0\n",
       "59086  64   1  168   63  130   80   1   1   0   0   1   1\n",
       "5403   47   2  164   75  130   90   1   1   0   0   1   0\n",
       "...    ..  ..  ...  ...  ...  ...  ..  ..  ..  ..  ..  ..\n",
       "29481  61   2  160   65  110   81   2   1   1   0   1   1\n",
       "2069   64   2  174  104  140   80   1   1   0   0   0   1\n",
       "8286   54   2  170   89  130   90   1   3   0   0   1   1\n",
       "49578  61   1  156   55  120   80   3   3   0   0   0   1\n",
       "32368  60   2  170   84  160  100   3   3   0   0   1   1\n",
       "\n",
       "[19489 rows x 12 columns]"
      ]
     },
     "execution_count": 21,
     "metadata": {},
     "output_type": "execute_result"
    }
   ],
   "source": [
    "df_test"
   ]
  },
  {
   "cell_type": "code",
   "execution_count": 23,
   "id": "5a819fa9",
   "metadata": {
    "ExecuteTime": {
     "end_time": "2023-04-05T17:27:56.850345Z",
     "start_time": "2023-04-05T17:27:56.828406Z"
    }
   },
   "outputs": [],
   "source": [
    "df_test.columns = ['AGE', 'GENDER', 'HEIGHT', 'WEIGHT', 'AP_HIGH', 'AP_LOW', 'CHOLESTEROL', 'GLUCOSE', 'SMOKE', 'ALCOHOL', 'PHYSICAL_ACTIVITY', 'CARDIO_DISEASE']\n",
    "df_train.columns = ['AGE', 'GENDER', 'HEIGHT', 'WEIGHT', 'AP_HIGH', 'AP_LOW', 'CHOLESTEROL', 'GLUCOSE', 'SMOKE', 'ALCOHOL', 'PHYSICAL_ACTIVITY', 'CARDIO_DISEASE']"
   ]
  },
  {
   "cell_type": "code",
   "execution_count": 24,
   "id": "489e6146",
   "metadata": {
    "ExecuteTime": {
     "end_time": "2023-04-05T17:28:06.468924Z",
     "start_time": "2023-04-05T17:28:06.441994Z"
    }
   },
   "outputs": [
    {
     "data": {
      "text/html": [
       "<div>\n",
       "<style scoped>\n",
       "    .dataframe tbody tr th:only-of-type {\n",
       "        vertical-align: middle;\n",
       "    }\n",
       "\n",
       "    .dataframe tbody tr th {\n",
       "        vertical-align: top;\n",
       "    }\n",
       "\n",
       "    .dataframe thead th {\n",
       "        text-align: right;\n",
       "    }\n",
       "</style>\n",
       "<table border=\"1\" class=\"dataframe\">\n",
       "  <thead>\n",
       "    <tr style=\"text-align: right;\">\n",
       "      <th></th>\n",
       "      <th>AGE</th>\n",
       "      <th>GENDER</th>\n",
       "      <th>HEIGHT</th>\n",
       "      <th>WEIGHT</th>\n",
       "      <th>AP_HIGH</th>\n",
       "      <th>AP_LOW</th>\n",
       "      <th>CHOLESTEROL</th>\n",
       "      <th>GLUCOSE</th>\n",
       "      <th>SMOKE</th>\n",
       "      <th>ALCOHOL</th>\n",
       "      <th>PHYSICAL_ACTIVITY</th>\n",
       "      <th>CARDIO_DISEASE</th>\n",
       "    </tr>\n",
       "  </thead>\n",
       "  <tbody>\n",
       "    <tr>\n",
       "      <th>35960</th>\n",
       "      <td>60</td>\n",
       "      <td>2</td>\n",
       "      <td>170</td>\n",
       "      <td>64</td>\n",
       "      <td>110</td>\n",
       "      <td>70</td>\n",
       "      <td>1</td>\n",
       "      <td>1</td>\n",
       "      <td>0</td>\n",
       "      <td>0</td>\n",
       "      <td>1</td>\n",
       "      <td>1</td>\n",
       "    </tr>\n",
       "    <tr>\n",
       "      <th>5364</th>\n",
       "      <td>44</td>\n",
       "      <td>1</td>\n",
       "      <td>165</td>\n",
       "      <td>97</td>\n",
       "      <td>120</td>\n",
       "      <td>80</td>\n",
       "      <td>2</td>\n",
       "      <td>2</td>\n",
       "      <td>0</td>\n",
       "      <td>0</td>\n",
       "      <td>1</td>\n",
       "      <td>0</td>\n",
       "    </tr>\n",
       "    <tr>\n",
       "      <th>12326</th>\n",
       "      <td>64</td>\n",
       "      <td>2</td>\n",
       "      <td>162</td>\n",
       "      <td>78</td>\n",
       "      <td>150</td>\n",
       "      <td>80</td>\n",
       "      <td>1</td>\n",
       "      <td>1</td>\n",
       "      <td>0</td>\n",
       "      <td>0</td>\n",
       "      <td>1</td>\n",
       "      <td>0</td>\n",
       "    </tr>\n",
       "    <tr>\n",
       "      <th>59086</th>\n",
       "      <td>64</td>\n",
       "      <td>1</td>\n",
       "      <td>168</td>\n",
       "      <td>63</td>\n",
       "      <td>130</td>\n",
       "      <td>80</td>\n",
       "      <td>1</td>\n",
       "      <td>1</td>\n",
       "      <td>0</td>\n",
       "      <td>0</td>\n",
       "      <td>1</td>\n",
       "      <td>1</td>\n",
       "    </tr>\n",
       "    <tr>\n",
       "      <th>5403</th>\n",
       "      <td>47</td>\n",
       "      <td>2</td>\n",
       "      <td>164</td>\n",
       "      <td>75</td>\n",
       "      <td>130</td>\n",
       "      <td>90</td>\n",
       "      <td>1</td>\n",
       "      <td>1</td>\n",
       "      <td>0</td>\n",
       "      <td>0</td>\n",
       "      <td>1</td>\n",
       "      <td>0</td>\n",
       "    </tr>\n",
       "    <tr>\n",
       "      <th>...</th>\n",
       "      <td>...</td>\n",
       "      <td>...</td>\n",
       "      <td>...</td>\n",
       "      <td>...</td>\n",
       "      <td>...</td>\n",
       "      <td>...</td>\n",
       "      <td>...</td>\n",
       "      <td>...</td>\n",
       "      <td>...</td>\n",
       "      <td>...</td>\n",
       "      <td>...</td>\n",
       "      <td>...</td>\n",
       "    </tr>\n",
       "    <tr>\n",
       "      <th>29481</th>\n",
       "      <td>61</td>\n",
       "      <td>2</td>\n",
       "      <td>160</td>\n",
       "      <td>65</td>\n",
       "      <td>110</td>\n",
       "      <td>81</td>\n",
       "      <td>2</td>\n",
       "      <td>1</td>\n",
       "      <td>1</td>\n",
       "      <td>0</td>\n",
       "      <td>1</td>\n",
       "      <td>1</td>\n",
       "    </tr>\n",
       "    <tr>\n",
       "      <th>2069</th>\n",
       "      <td>64</td>\n",
       "      <td>2</td>\n",
       "      <td>174</td>\n",
       "      <td>104</td>\n",
       "      <td>140</td>\n",
       "      <td>80</td>\n",
       "      <td>1</td>\n",
       "      <td>1</td>\n",
       "      <td>0</td>\n",
       "      <td>0</td>\n",
       "      <td>0</td>\n",
       "      <td>1</td>\n",
       "    </tr>\n",
       "    <tr>\n",
       "      <th>8286</th>\n",
       "      <td>54</td>\n",
       "      <td>2</td>\n",
       "      <td>170</td>\n",
       "      <td>89</td>\n",
       "      <td>130</td>\n",
       "      <td>90</td>\n",
       "      <td>1</td>\n",
       "      <td>3</td>\n",
       "      <td>0</td>\n",
       "      <td>0</td>\n",
       "      <td>1</td>\n",
       "      <td>1</td>\n",
       "    </tr>\n",
       "    <tr>\n",
       "      <th>49578</th>\n",
       "      <td>61</td>\n",
       "      <td>1</td>\n",
       "      <td>156</td>\n",
       "      <td>55</td>\n",
       "      <td>120</td>\n",
       "      <td>80</td>\n",
       "      <td>3</td>\n",
       "      <td>3</td>\n",
       "      <td>0</td>\n",
       "      <td>0</td>\n",
       "      <td>0</td>\n",
       "      <td>1</td>\n",
       "    </tr>\n",
       "    <tr>\n",
       "      <th>32368</th>\n",
       "      <td>60</td>\n",
       "      <td>2</td>\n",
       "      <td>170</td>\n",
       "      <td>84</td>\n",
       "      <td>160</td>\n",
       "      <td>100</td>\n",
       "      <td>3</td>\n",
       "      <td>3</td>\n",
       "      <td>0</td>\n",
       "      <td>0</td>\n",
       "      <td>1</td>\n",
       "      <td>1</td>\n",
       "    </tr>\n",
       "  </tbody>\n",
       "</table>\n",
       "<p>19489 rows × 12 columns</p>\n",
       "</div>"
      ],
      "text/plain": [
       "       AGE  GENDER  HEIGHT  WEIGHT  AP_HIGH  AP_LOW  CHOLESTEROL  GLUCOSE  \\\n",
       "35960   60       2     170      64      110      70            1        1   \n",
       "5364    44       1     165      97      120      80            2        2   \n",
       "12326   64       2     162      78      150      80            1        1   \n",
       "59086   64       1     168      63      130      80            1        1   \n",
       "5403    47       2     164      75      130      90            1        1   \n",
       "...    ...     ...     ...     ...      ...     ...          ...      ...   \n",
       "29481   61       2     160      65      110      81            2        1   \n",
       "2069    64       2     174     104      140      80            1        1   \n",
       "8286    54       2     170      89      130      90            1        3   \n",
       "49578   61       1     156      55      120      80            3        3   \n",
       "32368   60       2     170      84      160     100            3        3   \n",
       "\n",
       "       SMOKE  ALCOHOL  PHYSICAL_ACTIVITY  CARDIO_DISEASE  \n",
       "35960      0        0                  1               1  \n",
       "5364       0        0                  1               0  \n",
       "12326      0        0                  1               0  \n",
       "59086      0        0                  1               1  \n",
       "5403       0        0                  1               0  \n",
       "...      ...      ...                ...             ...  \n",
       "29481      1        0                  1               1  \n",
       "2069       0        0                  0               1  \n",
       "8286       0        0                  1               1  \n",
       "49578      0        0                  0               1  \n",
       "32368      0        0                  1               1  \n",
       "\n",
       "[19489 rows x 12 columns]"
      ]
     },
     "execution_count": 24,
     "metadata": {},
     "output_type": "execute_result"
    }
   ],
   "source": [
    "df_test"
   ]
  },
  {
   "cell_type": "code",
   "execution_count": 25,
   "id": "073461e6",
   "metadata": {
    "ExecuteTime": {
     "end_time": "2023-04-05T17:29:16.133738Z",
     "start_time": "2023-04-05T17:29:15.825554Z"
    }
   },
   "outputs": [],
   "source": [
    "df_train.to_csv('./train.csv', index=False)\n",
    "df_test.to_csv('./test.csv', index=True)"
   ]
  },
  {
   "cell_type": "markdown",
   "id": "ebc81c13",
   "metadata": {},
   "source": [
    "I splited the dataset so that I can use the same train and test set for all the models."
   ]
  },
  {
   "cell_type": "markdown",
   "id": "af4a9ef4",
   "metadata": {},
   "source": [
    "## Data Viz"
   ]
  },
  {
   "cell_type": "code",
   "execution_count": 26,
   "id": "aa2923b2",
   "metadata": {
    "ExecuteTime": {
     "end_time": "2023-04-05T17:31:54.735721Z",
     "start_time": "2023-04-05T17:31:54.354738Z"
    },
    "scrolled": true
   },
   "outputs": [
    {
     "data": {
      "text/plain": [
       "<AxesSubplot:xlabel='GENDER', ylabel='count'>"
      ]
     },
     "execution_count": 26,
     "metadata": {},
     "output_type": "execute_result"
    },
    {
     "data": {
      "image/png": "[encoded data removed]",
      "text/plain": [
       "<Figure size 432x288 with 1 Axes>"
      ]
     },
     "metadata": {
      "needs_background": "light"
     },
     "output_type": "display_data"
    }
   ],
   "source": [
    "sns.countplot(x='GENDER', hue='CARDIO_DISEASE', data=df)"
   ]
  },
  {
   "cell_type": "code",
   "execution_count": 27,
   "id": "987fa6ac",
   "metadata": {
    "ExecuteTime": {
     "end_time": "2023-04-05T17:32:03.426529Z",
     "start_time": "2023-04-05T17:32:03.105347Z"
    }
   },
   "outputs": [
    {
     "data": {
      "text/plain": [
       "<AxesSubplot:xlabel='SMOKE', ylabel='count'>"
      ]
     },
     "execution_count": 27,
     "metadata": {},
     "output_type": "execute_result"
    },
    {
     "data": {
      "image/png": "[encoded data removed]",
      "text/plain": [
       "<Figure size 432x288 with 1 Axes>"
      ]
     },
     "metadata": {
      "needs_background": "light"
     },
     "output_type": "display_data"
    }
   ],
   "source": [
    "sns.countplot(x='SMOKE', hue='CARDIO_DISEASE', data=df)"
   ]
  },
  {
   "cell_type": "code",
   "execution_count": 28,
   "id": "9edc22ec",
   "metadata": {
    "ExecuteTime": {
     "end_time": "2023-04-05T17:32:04.619781Z",
     "start_time": "2023-04-05T17:32:04.345520Z"
    }
   },
   "outputs": [
    {
     "data": {
      "text/plain": [
       "<AxesSubplot:xlabel='ALCOHOL', ylabel='count'>"
      ]
     },
     "execution_count": 28,
     "metadata": {},
     "output_type": "execute_result"
    },
    {
     "data": {
      "image/png": "[encoded data removed]",
      "text/plain": [
       "<Figure size 432x288 with 1 Axes>"
      ]
     },
     "metadata": {
      "needs_background": "light"
     },
     "output_type": "display_data"
    }
   ],
   "source": [
    "sns.countplot(x='ALCOHOL', hue='CARDIO_DISEASE', data=df)"
   ]
  },
  {
   "cell_type": "code",
   "execution_count": 29,
   "id": "893a26f9",
   "metadata": {
    "ExecuteTime": {
     "end_time": "2023-04-05T17:32:10.570991Z",
     "start_time": "2023-04-05T17:32:06.912677Z"
    }
   },
   "outputs": [
    {
     "name": "stderr",
     "output_type": "stream",
     "text": [
      "C:\\ProgramData\\Anaconda3\\lib\\site-packages\\seaborn\\distributions.py:2619: FutureWarning: `distplot` is a deprecated function and will be removed in a future version. Please adapt your code to use either `displot` (a figure-level function with similar flexibility) or `histplot` (an axes-level function for histograms).\n",
      "  warnings.warn(msg, FutureWarning)\n",
      "C:\\ProgramData\\Anaconda3\\lib\\site-packages\\seaborn\\distributions.py:2619: FutureWarning: `distplot` is a deprecated function and will be removed in a future version. Please adapt your code to use either `displot` (a figure-level function with similar flexibility) or `histplot` (an axes-level function for histograms).\n",
      "  warnings.warn(msg, FutureWarning)\n",
      "C:\\ProgramData\\Anaconda3\\lib\\site-packages\\seaborn\\distributions.py:2619: FutureWarning: `distplot` is a deprecated function and will be removed in a future version. Please adapt your code to use either `displot` (a figure-level function with similar flexibility) or `histplot` (an axes-level function for histograms).\n",
      "  warnings.warn(msg, FutureWarning)\n",
      "C:\\ProgramData\\Anaconda3\\lib\\site-packages\\seaborn\\distributions.py:2619: FutureWarning: `distplot` is a deprecated function and will be removed in a future version. Please adapt your code to use either `displot` (a figure-level function with similar flexibility) or `histplot` (an axes-level function for histograms).\n",
      "  warnings.warn(msg, FutureWarning)\n"
     ]
    },
    {
     "data": {
      "text/plain": [
       "<AxesSubplot:xlabel='GLUCOSE', ylabel='Density'>"
      ]
     },
     "execution_count": 29,
     "metadata": {},
     "output_type": "execute_result"
    },
    {
     "data": {
      "image/png": "[encoded data removed]",
      "text/plain": [
       "<Figure size 1872x288 with 4 Axes>"
      ]
     },
     "metadata": {
      "needs_background": "light"
     },
     "output_type": "display_data"
    }
   ],
   "source": [
    "fig, axes = plt.subplots(1, 4, figsize=(26, 4))\n",
    "\n",
    "sns.distplot(df.AGE, bins=10, ax=axes[0])\n",
    "sns.distplot(df.HEIGHT, bins=10, ax=axes[1])\n",
    "sns.distplot(df.WEIGHT, bins=10, ax=axes[2])\n",
    "sns.distplot(df.GLUCOSE, bins=10, ax=axes[3])"
   ]
  },
  {
   "cell_type": "code",
   "execution_count": 30,
   "id": "f032783d",
   "metadata": {
    "ExecuteTime": {
     "end_time": "2023-04-05T17:32:13.516161Z",
     "start_time": "2023-04-05T17:32:12.411118Z"
    }
   },
   "outputs": [
    {
     "data": {
      "image/png": "[encoded data removed]",
      "text/plain": [
       "<Figure size 864x864 with 1 Axes>"
      ]
     },
     "metadata": {
      "needs_background": "light"
     },
     "output_type": "display_data"
    }
   ],
   "source": [
    "#correlation\n",
    "correlation = df.corr()\n",
    "plt.figure(figsize=(12, 12))\n",
    "heatmap = sns.heatmap(correlation, annot=True, linewidths=1, linecolor=\"black\", cbar=False, vmin=-1, cmap='crest')"
   ]
  },
  {
   "cell_type": "code",
   "execution_count": null,
   "id": "2769e730",
   "metadata": {},
   "outputs": [],
   "source": []
  }
 ],
 "metadata": {
  "kernelspec": {
   "display_name": "Python 3 (ipykernel)",
   "language": "python",
   "name": "python3"
  },
  "language_info": {
   "codemirror_mode": {
    "name": "ipython",
    "version": 3
   },
   "file_extension": ".py",
   "mimetype": "text/x-python",
   "name": "python",
   "nbconvert_exporter": "python",
   "pygments_lexer": "ipython3",
   "version": "3.9.7"
  },
  "notify_time": "10",
  "toc": {
   "base_numbering": 1,
   "nav_menu": {},
   "number_sections": true,
   "sideBar": true,
   "skip_h1_title": false,
   "title_cell": "Table of Contents",
   "title_sidebar": "Contents",
   "toc_cell": false,
   "toc_position": {},
   "toc_section_display": true,
   "toc_window_display": false
  },
  "varInspector": {
   "cols": {
    "lenName": 16,
    "lenType": 16,
    "lenVar": 40
   },
   "kernels_config": {
    "python": {
     "delete_cmd_postfix": "",
     "delete_cmd_prefix": "del ",
     "library": "var_list.py",
     "varRefreshCmd": "print(var_dic_list())"
    },
    "r": {
     "delete_cmd_postfix": ") ",
     "delete_cmd_prefix": "rm(",
     "library": "var_list.r",
     "varRefreshCmd": "cat(var_dic_list()) "
    }
   },
   "types_to_exclude": [
    "module",
    "function",
    "builtin_function_or_method",
    "instance",
    "_Feature"
   ],
   "window_display": false
  }
 },
 "nbformat": 4,
 "nbformat_minor": 5
}
